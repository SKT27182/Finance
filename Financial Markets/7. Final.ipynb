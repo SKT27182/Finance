{
 "cells": [
  {
   "attachments": {},
   "cell_type": "markdown",
   "metadata": {},
   "source": [
    "# imports"
   ]
  },
  {
   "cell_type": "code",
   "execution_count": 1,
   "metadata": {},
   "outputs": [],
   "source": [
    "import numpy as np\n",
    "import pandas as pd\n",
    "import matplotlib.pyplot as plt\n",
    "import seaborn as sns\n",
    "import mplfinance as mpf\n",
    "\n",
    "import plotly.express as px\n",
    "import plotly.graph_objs as go\n",
    "from plotly.subplots import make_subplots\n",
    "\n",
    "import warnings\n",
    "warnings.filterwarnings('ignore')\n",
    "\n",
    "plt.rcParams['figure.figsize'] = [12, 8]"
   ]
  },
  {
   "attachments": {},
   "cell_type": "markdown",
   "metadata": {},
   "source": [
    "# Lecture 17:"
   ]
  },
  {
   "attachments": {},
   "cell_type": "markdown",
   "metadata": {},
   "source": [
    "## Nonprofit Organizations\n",
    "\n",
    "Traditional economic theory describes people as having a utility function, which is arguments include own consumption, and they care only about that. Nonprofit organizations don't work this way. They exist for the benefit of their cause.\n",
    "\n",
    "It's an organization, it's a business but with one key different, there's a non-distribution constraint. They don't give back the dividend, the profits as dividend. They have to re-invest them. Either give them away or reinvest them in the activities of the organization.\n"
   ]
  },
  {
   "attachments": {},
   "cell_type": "markdown",
   "metadata": {},
   "source": [
    "## Financial Cooperative\n",
    "\n",
    "A financial cooperative (co-op) is a type of financial institution that is owned and operated by its members. The goal of a financial cooperative is to act on behalf of a unified group to offer traditional banking services. These institutions attempt to differentiate themselves by offering above-average services along with competitive rates in the areas of insurance, lending, and investment dealings."
   ]
  },
  {
   "attachments": {},
   "cell_type": "markdown",
   "metadata": {},
   "source": [
    "# Lecture 18:"
   ]
  },
  {
   "attachments": {},
   "cell_type": "markdown",
   "metadata": {},
   "source": [
    "## Critisim of Finance"
   ]
  },
  {
   "attachments": {},
   "cell_type": "markdown",
   "metadata": {},
   "source": [
    "## Democratization of Finance\n",
    "\n",
    "By democratization we mean that it should benefit real people. Everyone, not just the rich. It shouldn't be a plot to preserve the riches of the already rich."
   ]
  },
  {
   "attachments": {},
   "cell_type": "markdown",
   "metadata": {},
   "source": [
    "## Crowdfunding"
   ]
  },
  {
   "attachments": {},
   "cell_type": "markdown",
   "metadata": {},
   "source": [
    "## Importance of Financial Theory\n",
    "\n",
    "1. Mathematical Finance\n",
    "2. Behavioral Finance"
   ]
  },
  {
   "cell_type": "markdown",
   "metadata": {},
   "source": []
  }
 ],
 "metadata": {
  "kernelspec": {
   "display_name": "my_env",
   "language": "python",
   "name": "python3"
  },
  "language_info": {
   "codemirror_mode": {
    "name": "ipython",
    "version": 3
   },
   "file_extension": ".py",
   "mimetype": "text/x-python",
   "name": "python",
   "nbconvert_exporter": "python",
   "pygments_lexer": "ipython3",
   "version": "3.10.6 (main, Nov 14 2022, 16:10:14) [GCC 11.3.0]"
  },
  "orig_nbformat": 4,
  "vscode": {
   "interpreter": {
    "hash": "333ad066d239af8659780667608f3e14a8c59d1eb92890b0405dfaef9e357b30"
   }
  }
 },
 "nbformat": 4,
 "nbformat_minor": 2
}
