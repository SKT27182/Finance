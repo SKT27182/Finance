{
 "cells": [
  {
   "attachments": {},
   "cell_type": "markdown",
   "metadata": {},
   "source": [
    "# imports"
   ]
  },
  {
   "cell_type": "code",
   "execution_count": 1,
   "metadata": {},
   "outputs": [],
   "source": [
    "import numpy as np\n",
    "import pandas as pd\n",
    "import matplotlib.pyplot as plt\n",
    "import seaborn as sns\n",
    "import mplfinance as mpf\n",
    "\n",
    "import plotly.express as px\n",
    "import plotly.graph_objs as go\n",
    "from plotly.subplots import make_subplots\n",
    "\n",
    "import warnings\n",
    "warnings.filterwarnings('ignore')\n",
    "\n",
    "plt.rcParams['figure.figsize'] = [12, 8]"
   ]
  },
  {
   "cell_type": "markdown",
   "metadata": {},
   "source": [
    "# Lecture 12:"
   ]
  },
  {
   "attachments": {},
   "cell_type": "markdown",
   "metadata": {},
   "source": [
    "## Hedging\n",
    "\n",
    "To hedge, in finance, is to take an offsetting position in an asset or investment that reduces the price risk of an existing position. A hedge is therefore a trade that is made with the purpose of reducing the risk of adverse price movements in another asset. Normally, a hedge consists of taking the opposite position in a related security or in a derivative security based on the asset to be hedged."
   ]
  },
  {
   "attachments": {},
   "cell_type": "markdown",
   "metadata": {},
   "source": [
    "## Forward and Future Markets\n",
    "\n",
    "The forward market is a market for the sale of a commodity or financial instrument at a specified future date and price. The forward price is the price at which the buyer and seller agree to transact. The forward price is determined by the market forces of supply and demand. The forward market is a private market, meaning that it is not regulated by a central exchange. The forward market is also known as the cash market."
   ]
  },
  {
   "attachments": {},
   "cell_type": "markdown",
   "metadata": {},
   "source": [
    "## Forwrad Contracts\n",
    "\n",
    "A forward contract is a contract between two individuals, you might call them counter-parties, to deliver at a future date called the exercise date or maturity date. Historically, forward contracts preceded futures contracts.\n",
    "\n",
    "If you're going to go with forwards, you have to worry about your counterparty, and you have to check the counterparty out, and you need to establish that the counterparty has good credit so they're inherently limited.\n",
    "\n",
    "A forward exchange contract, FX forwards can be thought of as a pair of zero coupon bonds stapled together in two different currencies.\n"
   ]
  },
  {
   "attachments": {},
   "cell_type": "markdown",
   "metadata": {},
   "source": [
    "## Forward Interest Parity\n",
    "\n",
    "Let's have a look at an example: Suppose I'm selling goods. I'm a Japanese producer of goods which I'm selling in the United States. I'm going to sell them for dollars of course, Americans pay dollars. And then I want to repatriate the money to Japan, so I'm going to exchange it into yen. But I want to have a forward contract which locks in the price today. I don't have to go through the forward market. I can borrow the money today in dollars, exchange it at the spot exchange rate today into yen, take the yen back to Japan and put them in some interest bearing account in Japan earning the Japanese interest rate. So I'm going to be charged the dollar interest rate but I'm going to be credited the Japanese interest rate. And so I have an amount left at the end equal to:\n",
    "\n",
    "$$ \\text{Forwaard Rate = } \\frac{\\text{1 + Japanese Interest Rate}}{\\text{1 + Dollar Interest Rate}} * \\text{Spot Rate} $$\n",
    "\n",
    "So, ideally, forward rate should be equal to the expression above."
   ]
  },
  {
   "attachments": {},
   "cell_type": "markdown",
   "metadata": {},
   "source": [
    "## Forward Rate Agreement\n",
    "\n",
    "The forward rate agreement is given by:\n",
    "\n",
    "$$ Settlement = \\frac{(L-R)*D*A}{(B*100)+ L*D} $$\n",
    "\n",
    "Where:\n",
    "\n",
    "- L is the actual interest rate on contract date\n",
    "- R the contract date\n",
    "- D the number of days in the contract\n",
    "- A Contract amount\n",
    "- B the number of days in the year (360 or 365)\n",
    "\n"
   ]
  },
  {
   "attachments": {},
   "cell_type": "markdown",
   "metadata": {},
   "source": [
    "## Futures Contracts\n",
    "\n",
    "A futures contract is like a forward contract except there's an intermediary. The exchange who, you make your contract with the intermediary, not with the ultimate counter party, and they're standardized.\n",
    "\n",
    "Future works on the concept of margin. If market goes against you, money is deducted from your margin account. This means that you can close away from the contract anytime you want, the money is deducted from your margin account.\n"
   ]
  },
  {
   "attachments": {},
   "cell_type": "markdown",
   "metadata": {},
   "source": [
    "## Margins\n",
    "\n",
    "Margin is the amount of money that you have to put up to make a trade. So, if you're going to buy a futures contract, you have to put up a certain amount of money. And that's called the margin. And the margin is a percentage of the value of the contract. So, if you're going to buy a contract for $100,000, you might have to put up 10% of that, which is $10,000. And that's called the margin. And the margin is a percentage of the value of the contract. \n",
    "\n",
    "There are two types of margins:\n",
    "\n",
    "- Initial margin: The amount of money you have to put up to enter into the contract.\n",
    "- Maintenance margin: The amount of money you have to keep in your account to maintain the contract.\n",
    "\n"
   ]
  },
  {
   "attachments": {},
   "cell_type": "markdown",
   "metadata": {},
   "source": [
    "## Margin Calls\n",
    "\n",
    "A margin call is a request for additional funds from a customer to meet a margin requirement. The margin call is made by the broker to the customer. The customer has to deposit the funds with the broker. The broker then uses the funds to meet the margin call.\n",
    "\n",
    "- Future contracts are not usually delivered. It's just an insurance against price drops."
   ]
  },
  {
   "attachments": {},
   "cell_type": "markdown",
   "metadata": {},
   "source": [
    "## Contango\n",
    "\n",
    "Contango is a situation in which the futures price is higher than the spot price. This is because the futures price is the price of the underlying asset at a future date, and the spot price is the price of the underlying asset at the current date. The difference between the two prices is the interest rate.\n",
    "\n",
    "As time increases, the futures price increases more than the spot price. Meaning that the slope is positive. This is contango.\n",
    "\n",
    "- The futures market makes the shortages less severe because you can see it coming in the futures curve."
   ]
  },
  {
   "attachments": {},
   "cell_type": "markdown",
   "metadata": {},
   "source": [
    "## Buying/Selling Futures\n",
    "\n",
    "When someone \"buys\" a futures contract, they are agreeing to buy the underlying asset at a future date at a price that is set today. When someone \"sells\" a futures contract, they are agreeing to sell the underlying asset at a future date at a price that is set today.\n",
    "\n",
    "What actually happens is that a buyer agrees with the exchange to a daily settlement procedure. This is done by the initial margin give by the buyer.\n"
   ]
  },
  {
   "attachments": {},
   "cell_type": "markdown",
   "metadata": {},
   "source": [
    "## Daily Settlement\n",
    "\n",
    "Every day until expiration, a margin account is credited or debited with an amount equal to the change in the settle price times the contract amount. The amount credited or debited is called the daily settlement amount and is calculated as follows:\n",
    "\n",
    "$$ \\text{Daily Settlement Amount=Settle Price×Contract Amount} $$\n",
    "\n",
    "Last Day: The last day is different. The buyer/seller has to pay the difference between the settle price and the spot price times the contract amount. (Or else they have to be ready with their truck to deliver the goods /take goods).\n",
    "\n",
    "- This means that you don't need to buy/sell the underlying asset. You just need to have the money to pay the difference between the settle price and the spot price.\n",
    "\n",
    "- On the last day, the spot price is going to be approximately equal to the futures price.\n",
    "\n"
   ]
  },
  {
   "attachments": {},
   "cell_type": "markdown",
   "metadata": {},
   "source": [
    "## Arbitrage\n",
    "\n",
    "Arbitrage is the simultaneous purchase and sale of the same or similar asset in different markets in order to profit from tiny differences in the asset's listed price. It exploits short-lived variations in the price of identical or similar financial instruments in different markets or in different forms."
   ]
  },
  {
   "attachments": {},
   "cell_type": "markdown",
   "metadata": {},
   "source": [
    "## Fair Value in Futures Contracts\n",
    "\n",
    "Fair Value In Futures Contract is a little bit like the forward interest parity in forward rate. This answers the question: What should the futures price be? We have:\n",
    "\n",
    "$$ P_{Futures} = P_{Spot} * \\frac{1 + r_{Futures}}{1 + r + s} $$\n",
    "\n",
    "where:\n",
    "\n",
    "- P_Futures is the futures price\n",
    "- P_Spot is the spot price\n",
    "- r is the interest rate for the particular time period\n",
    "- s is the storage cost for the particular time period\n",
    "\n",
    "The contango can be easily explained by above formula.\n",
    "\n",
    "- It is possible that the future price is less than the spot price. This is called backwardation. This can happen when the commodity is not in storage escpecially at harvest time.\n"
   ]
  },
  {
   "attachments": {},
   "cell_type": "markdown",
   "metadata": {},
   "source": [
    "## Oil Futures\n",
    "\n",
    "There is no obvious spot oil price. Now there are spot oil prices but it's overwhelming majority of oil is not sold on the spot market. The spot oil price is a volatile number, it differs from place to place. Again, when you look at oil price typically when they quote that, they're quoting the nearest future contract."
   ]
  },
  {
   "attachments": {},
   "cell_type": "markdown",
   "metadata": {},
   "source": [
    "## SPI Futures\n",
    "\n",
    "SPI stands for stock price index. In US, S&P 500 is used. The future price is given by:\n",
    "\n",
    "$$ F = P + P × (r - y) $$\n",
    "\n",
    "where:\n",
    "\n",
    "- F is the future price\n",
    "- P is the spot price\n",
    "- r is the risk free rate\n",
    "- y is the dividend yield\n",
    "\n",
    "The formula is same as the fair price for a commodity with a negative storage cost. The storage cost is negative because storing stocks gives you a dividend yield.\n",
    "\n",
    "As an index can not be deliverable, cash settlement is used. The lot size varies from exchange to exchange. In US, it is 250.\n"
   ]
  },
  {
   "attachments": {},
   "cell_type": "markdown",
   "metadata": {},
   "source": [
    "- [All About Futures](https://www.investopedia.com/terms/f/futurescontract.asp)"
   ]
  },
  {
   "attachments": {},
   "cell_type": "markdown",
   "metadata": {},
   "source": [
    "# Lecture 13: "
   ]
  },
  {
   "attachments": {},
   "cell_type": "markdown",
   "metadata": {},
   "source": [
    "## Options\n",
    "\n",
    "Options are contracts that derive their value from an underlying asset or investment. Options give the owner the right to buy or sell the underlying asset (such as a stock), at a fixed price (called the strike price), on or before a specific expiration date in the future. A call option gives the owner the right to buy a stock, for example, while a put option gives the owner the right to sell the stock. The up-front fee (called the premium) is what the investor pays to purchase the option.\n",
    "\n",
    "There are two types of options:\n",
    "\n",
    "- Call option: The right to buy the underlying asset at a certain price.\n",
    "- Put option: The right to sell the underlying asset at a certain price.\n",
    "\n",
    "At the time that the option is bought, the buyer of the option compensates the seller, the writer, of the option. Because the writer of the option is now subject to the choice in the future of the buyer of the option. And it has to be compensated for giving that choice to the other person.\n"
   ]
  },
  {
   "attachments": {},
   "cell_type": "markdown",
   "metadata": {},
   "source": [
    "### Call Option\n",
    "\n",
    "With a call option, you are buying the right to buy something which is specified in the contract at a predetermined price. That means you don't have to wait to find out what your market price is of that item on the day of purchase. It's locked in in advance. But we call it an option because you don't have to purchase it, you can wait and see.\n",
    "\n",
    "You will buy a call option on the date specified if the price of buying it through the option is less than the price of buying it in the open market. Because you will always do that, even if you decide you don't want the object, because you can then sell it in the open market and make a profit.\n"
   ]
  },
  {
   "attachments": {},
   "cell_type": "markdown",
   "metadata": {},
   "source": [
    "### Put Option\n",
    "\n",
    "With a put option, you are buying the right to sell something which is specified in the contract at a predetermined price.\n",
    "\n",
    "You will buy a put option on the date specified if the price of selling it through the option is more than the price of selling it in the open market. Because you will always do that, even if you decide you don't want to sell it, because you can then buy it in the open market and make a profit.\n"
   ]
  },
  {
   "attachments": {},
   "cell_type": "markdown",
   "metadata": {},
   "source": [
    "## Difference between Futures and Options\n",
    "\n",
    "Options are optional, futures are not. Futures are binding. You have to buy or sell the underlying asset. Options are not binding. You can choose not to buy or sell the underlying asset."
   ]
  },
  {
   "attachments": {},
   "cell_type": "markdown",
   "metadata": {},
   "source": [
    "## Terms of Options\n",
    "\n",
    "There are three main terms of options:\n",
    "\n",
    "- Exercise price (Strike Price): The price at which the underlying asset can be bought or sold.\n",
    "- Exchange date: The date on which the option can be exercised.\n",
    "- Underlying asset: The asset that can be bought or sold and the number of units.\n",
    "\n"
   ]
  },
  {
   "attachments": {},
   "cell_type": "markdown",
   "metadata": {},
   "source": [
    "## Bid, Ask and Last Price\n",
    "\n",
    "Bid price is the price at which the option can be sold. Ask price is the price at which the option can be bought. Last price is the price at which the option was last traded."
   ]
  },
  {
   "attachments": {},
   "cell_type": "markdown",
   "metadata": {},
   "source": [
    "## Why Options Exist?\n",
    "\n",
    "Options exist because they are a way to transfer risk. If you are a farmer, you can buy a put option on your crop. This means that you can sell your crop at a fixed price. If the price of your crop is lower than the strike price, you will sell your crop at the strike price. If the price of your crop is higher than the strike price, you will sell your crop at the market price.\n",
    "\n",
    "- Theoretical and Behavioral reasons."
   ]
  },
  {
   "attachments": {},
   "cell_type": "markdown",
   "metadata": {},
   "source": [
    "## European and American Options\n",
    "\n",
    "European options can only be exercised on the exercise date. American options can be exercised at any time before the exercise date."
   ]
  },
  {
   "attachments": {},
   "cell_type": "markdown",
   "metadata": {},
   "source": [
    "## Put-Call Parity\n",
    "\n",
    "On expiry date, you exercise a put option only if the spot price is less than the exercise price. You exercise a call option only if the spot price is more than the exercise price. So, the value of a put option is equal to the value of a call option plus the difference between the spot price and the exercise price."
   ]
  },
  {
   "attachments": {},
   "cell_type": "markdown",
   "metadata": {},
   "source": [
    "## Put-Call Parity Relationship\n",
    "\n",
    "This gives a relationship between the put and call prices. This relationship is called the put-call parity relationship. It is given by:\n",
    "$$ P−C=K−S+D $$\n",
    "\n",
    "where\n",
    "\n",
    "- C is the call price\n",
    "- P is the put price\n",
    "- S is the spot price\n",
    "- K is the present value of exercise price\n",
    "- D is the present value of dividend\n",
    "\n",
    "The formula means that if you add the present value of the strike price to the sum of put and call, you get the stock price again. (Ignoring dividends)"
   ]
  },
  {
   "attachments": {},
   "cell_type": "markdown",
   "metadata": {},
   "source": [
    "- The put-call parity relation must always hold. If it doesn't, there is an arbitrage opportunity and the market will adjust to make it hold.\n",
    "\n",
    "- On an earlier day, like months or years before the exercise date, the stock option is worth more than the intrinsic value because it has option value. This is so beacuse there's always a chance that the stock will go up."
   ]
  },
  {
   "attachments": {},
   "cell_type": "markdown",
   "metadata": {},
   "source": [
    "## Using Options to Hedge\n",
    "\n",
    "If you are worried that the stock you have will go down, you can buy a put option. This puts a floor on the price of the stock. If the stock goes down, you can exercise the put option and sell the stock at the strike price. If the stock goes up, you can just hold the stock."
   ]
  },
  {
   "cell_type": "markdown",
   "metadata": {},
   "source": []
  }
 ],
 "metadata": {
  "kernelspec": {
   "display_name": "my_env",
   "language": "python",
   "name": "python3"
  },
  "language_info": {
   "codemirror_mode": {
    "name": "ipython",
    "version": 3
   },
   "file_extension": ".py",
   "mimetype": "text/x-python",
   "name": "python",
   "nbconvert_exporter": "python",
   "pygments_lexer": "ipython3",
   "version": "3.10.6 (main, Nov 14 2022, 16:10:14) [GCC 11.3.0]"
  },
  "orig_nbformat": 4,
  "vscode": {
   "interpreter": {
    "hash": "333ad066d239af8659780667608f3e14a8c59d1eb92890b0405dfaef9e357b30"
   }
  }
 },
 "nbformat": 4,
 "nbformat_minor": 2
}
